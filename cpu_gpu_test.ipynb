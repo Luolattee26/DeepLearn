{
 "cells": [
  {
   "cell_type": "code",
   "execution_count": 7,
   "id": "b5db50d5-ca0c-436d-b6be-04c3570d6c75",
   "metadata": {},
   "outputs": [],
   "source": [
    "import torch\n",
    "import time"
   ]
  },
  {
   "cell_type": "code",
   "execution_count": 8,
   "id": "e97237d4-1558-46d6-98fb-31304e4699a9",
   "metadata": {},
   "outputs": [
    {
     "name": "stdout",
     "output_type": "stream",
     "text": [
      "104.18372845649719\n",
      "torch.Size([20000, 90000])\n"
     ]
    }
   ],
   "source": [
    "# CPU\n",
    "start = time.time()\n",
    "matA = torch.randn(20000, 50000)\n",
    "matB = torch.randn(50000, 90000)\n",
    "matC = torch.matmul(matA, matB)\n",
    "end = time.time()\n",
    "\n",
    "print(end - start)\n",
    "print(matC.shape)"
   ]
  },
  {
   "cell_type": "code",
   "execution_count": 9,
   "id": "7744facb-0de7-41ac-a54a-53c0c6d1ba04",
   "metadata": {},
   "outputs": [
    {
     "ename": "OutOfMemoryError",
     "evalue": "CUDA out of memory. Tried to allocate 3.73 GiB (GPU 0; 31.74 GiB total capacity; 0 bytes already allocated; 854.38 MiB free; 0 bytes reserved in total by PyTorch) If reserved memory is >> allocated memory try setting max_split_size_mb to avoid fragmentation.  See documentation for Memory Management and PYTORCH_CUDA_ALLOC_CONF",
     "output_type": "error",
     "traceback": [
      "\u001b[0;31m---------------------------------------------------------------------------\u001b[0m",
      "\u001b[0;31mOutOfMemoryError\u001b[0m                          Traceback (most recent call last)",
      "Cell \u001b[0;32mIn[9], line 5\u001b[0m\n\u001b[1;32m      3\u001b[0m \u001b[38;5;66;03m# device = torch.device('cuda1') 第二块显卡\u001b[39;00m\n\u001b[1;32m      4\u001b[0m start \u001b[38;5;241m=\u001b[39m time\u001b[38;5;241m.\u001b[39mtime()\n\u001b[0;32m----> 5\u001b[0m matA_gpu \u001b[38;5;241m=\u001b[39m \u001b[43mmatA\u001b[49m\u001b[38;5;241;43m.\u001b[39;49m\u001b[43mto\u001b[49m\u001b[43m(\u001b[49m\u001b[43mdevice\u001b[49m\u001b[43m)\u001b[49m\n\u001b[1;32m      6\u001b[0m matB_gpu \u001b[38;5;241m=\u001b[39m matB\u001b[38;5;241m.\u001b[39mto(device)\n\u001b[1;32m      7\u001b[0m matC_gpu \u001b[38;5;241m=\u001b[39m torch\u001b[38;5;241m.\u001b[39mmatmul(matA_gpu, matB_gpu)\n",
      "\u001b[0;31mOutOfMemoryError\u001b[0m: CUDA out of memory. Tried to allocate 3.73 GiB (GPU 0; 31.74 GiB total capacity; 0 bytes already allocated; 854.38 MiB free; 0 bytes reserved in total by PyTorch) If reserved memory is >> allocated memory try setting max_split_size_mb to avoid fragmentation.  See documentation for Memory Management and PYTORCH_CUDA_ALLOC_CONF"
     ]
    }
   ],
   "source": [
    "# gpu\n",
    "device = torch.device('cuda')\n",
    "# device = torch.device('cuda1') 第二块显卡\n",
    "start = time.time()\n",
    "matA_gpu = matA.to(device)\n",
    "matB_gpu = matB.to(device)\n",
    "matC_gpu = torch.matmul(matA_gpu, matB_gpu)\n",
    "end = time.time()\n",
    "\n",
    "print(end - start)\n",
    "print(matC.shape)"
   ]
  },
  {
   "cell_type": "code",
   "execution_count": null,
   "id": "fcefee80-25d4-4ca5-b510-038249899fef",
   "metadata": {},
   "outputs": [],
   "source": []
  }
 ],
 "metadata": {
  "kernelspec": {
   "display_name": "Python 3 (ipykernel)",
   "language": "python",
   "name": "python3"
  },
  "language_info": {
   "codemirror_mode": {
    "name": "ipython",
    "version": 3
   },
   "file_extension": ".py",
   "mimetype": "text/x-python",
   "name": "python",
   "nbconvert_exporter": "python",
   "pygments_lexer": "ipython3",
   "version": "3.9.17"
  }
 },
 "nbformat": 4,
 "nbformat_minor": 5
}
