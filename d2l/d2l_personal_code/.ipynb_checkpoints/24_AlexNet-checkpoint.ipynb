{
 "cells": [
  {
   "cell_type": "markdown",
   "id": "ece05231-0d50-4a97-95a4-05add4540ae7",
   "metadata": {},
   "source": [
    "AlexNet算是开启了持续到现在的深度学习风潮"
   ]
  },
  {
   "cell_type": "markdown",
   "id": "e04342c8-9c14-4af4-b077-8c72128b81fb",
   "metadata": {
    "execution": {
     "iopub.execute_input": "2023-12-13T20:43:19.897229Z",
     "iopub.status.busy": "2023-12-13T20:43:19.896342Z",
     "iopub.status.idle": "2023-12-13T20:43:19.920411Z",
     "shell.execute_reply": "2023-12-13T20:43:19.917541Z",
     "shell.execute_reply.started": "2023-12-13T20:43:19.897152Z"
    },
    "tags": []
   },
   "source": [
    "不过李沐老师说目前计算机视觉好像已经卷到头了？CNN可能已经被卷完了吧"
   ]
  },
  {
   "cell_type": "code",
   "execution_count": null,
   "id": "6b17938a-eb2f-4875-9627-87109b0c4301",
   "metadata": {},
   "outputs": [],
   "source": []
  }
 ],
 "metadata": {
  "kernelspec": {
   "display_name": "d2l",
   "language": "python",
   "name": "d2l"
  },
  "language_info": {
   "codemirror_mode": {
    "name": "ipython",
    "version": 3
   },
   "file_extension": ".py",
   "mimetype": "text/x-python",
   "name": "python",
   "nbconvert_exporter": "python",
   "pygments_lexer": "ipython3",
   "version": "3.8.18"
  }
 },
 "nbformat": 4,
 "nbformat_minor": 5
}
