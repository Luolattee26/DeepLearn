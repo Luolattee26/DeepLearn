{
 "cells": [
  {
   "attachments": {},
   "cell_type": "markdown",
   "metadata": {},
   "source": [
    "这一部分的主要内容其实就是，矩阵要怎么求导数"
   ]
  },
  {
   "attachments": {},
   "cell_type": "markdown",
   "metadata": {},
   "source": [
    "基本也没啥代码可以看的，建议看宋浩老师~"
   ]
  },
  {
   "attachments": {},
   "cell_type": "markdown",
   "metadata": {},
   "source": [
    "矩阵的导数计算其实主要是要关注维度的变化，这里面是有规律的，李沐老师视频里面那个讲的很清楚了"
   ]
  },
  {
   "cell_type": "markdown",
   "metadata": {},
   "source": []
  }
 ],
 "metadata": {
  "kernelspec": {
   "display_name": "proteinml",
   "language": "python",
   "name": "python3"
  },
  "language_info": {
   "name": "python",
   "version": "3.12.0"
  },
  "orig_nbformat": 4,
  "vscode": {
   "interpreter": {
    "hash": "d484e796aa3769269690c2783d8f47deb76541a5c777ce631794de5e21a1c58a"
   }
  }
 },
 "nbformat": 4,
 "nbformat_minor": 2
}
