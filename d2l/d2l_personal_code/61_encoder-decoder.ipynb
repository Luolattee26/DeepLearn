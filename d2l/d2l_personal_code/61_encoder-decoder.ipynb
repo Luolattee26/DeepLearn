{
 "cells": [
  {
   "cell_type": "markdown",
   "metadata": {},
   "source": [
    "这节课，我们要来看大名鼎鼎的encoder-decoder结构到底是个啥\n",
    "* 这是最近几年可能非常有影响力的对模型的抽象解释\n",
    "* 其实encoder-decoder的思想用CNN可以很方便的解释\n",
    "    * 还记得CNN里面我们提过，CNN前面的层都可以视为在做特征提取，最后我们做回归的输出\n",
    "    * 那其实我们也可以认为，前面的CNN层我们都是在对信息进行重新编码，encoder\n",
    "    * 这里的encoder的目的就是为了把原始信息处理成机器学习容易理解的形式\n",
    "    * 而最后，我们再用decoder把机器学习理解的东西解码成人类能理解的，这其实也就是CNN里面最后的softmax回归层\n",
    "* 上面的思想放在RNN里面其实也是一样的\n",
    "* 这样所有的模型其实我们都可以用一种模块化的思想来构造\n",
    "    * 输入进入encoder，转化成机器学习容易理解的state\n",
    "    * 然后state直接进入decoder，或者再加入一些别的input，通过decoder来获得最后的output\n",
    "    * 仔细想一想，每个模型其实都是遵照这种规则弄出来的"
   ]
  },
  {
   "cell_type": "markdown",
   "metadata": {},
   "source": [
    "接下来我们看看，通过框架如何抽象的大致实现encoder-decoder架构"
   ]
  },
  {
   "cell_type": "code",
   "execution_count": 1,
   "metadata": {},
   "outputs": [],
   "source": [
    "from torch import nn\n",
    "\n",
    "\n",
    "#@save\n",
    "# 其实可以发现没啥东西，NotImplementedError只是为了让你不运行\n",
    "# 因为我们这里实现的只是一个基类，我们只定义一些最最基本的函数的架构，后面我们会继承这些基类来使用这些函数架构\n",
    "class Encoder(nn.Module):\n",
    "    \"\"\"编码器-解码器架构的基本编码器接口\"\"\"\n",
    "    def __init__(self, **kwargs):\n",
    "        super(Encoder, self).__init__(**kwargs)\n",
    "\n",
    "    def forward(self, X, *args):\n",
    "        raise NotImplementedError"
   ]
  },
  {
   "cell_type": "code",
   "execution_count": 2,
   "metadata": {},
   "outputs": [],
   "source": [
    "#@save\n",
    "class Decoder(nn.Module):\n",
    "    \"\"\"编码器-解码器架构的基本解码器接口\"\"\"\n",
    "    def __init__(self, **kwargs):\n",
    "        super(Decoder, self).__init__(**kwargs)\n",
    "\n",
    "    def init_state(self, enc_outputs, *args):\n",
    "        raise NotImplementedError\n",
    "\n",
    "    def forward(self, X, state):\n",
    "        raise NotImplementedError"
   ]
  },
  {
   "cell_type": "code",
   "execution_count": 3,
   "metadata": {},
   "outputs": [],
   "source": [
    "#@save\n",
    "class EncoderDecoder(nn.Module):\n",
    "    \"\"\"编码器-解码器架构的基类\"\"\"\n",
    "    def __init__(self, encoder, decoder, **kwargs):\n",
    "        super(EncoderDecoder, self).__init__(**kwargs)\n",
    "        self.encoder = encoder\n",
    "        self.decoder = decoder\n",
    "\n",
    "    def forward(self, enc_X, dec_X, *args):\n",
    "        enc_outputs = self.encoder(enc_X, *args)\n",
    "        dec_state = self.decoder.init_state(enc_outputs, *args)\n",
    "        return self.decoder(dec_X, dec_state)"
   ]
  },
  {
   "cell_type": "markdown",
   "metadata": {},
   "source": [
    "上面我们定义的是最简单的encoder-decoder的样本，基本框架就是这样的，后面的具体实现，其实就是看forward/init_state这两个函数里面的具体内容怎样设置了"
   ]
  },
  {
   "cell_type": "markdown",
   "metadata": {},
   "source": []
  }
 ],
 "metadata": {
  "kernelspec": {
   "display_name": "d2l",
   "language": "python",
   "name": "d2l"
  },
  "language_info": {
   "codemirror_mode": {
    "name": "ipython",
    "version": 3
   },
   "file_extension": ".py",
   "mimetype": "text/x-python",
   "name": "python",
   "nbconvert_exporter": "python",
   "pygments_lexer": "ipython3",
   "version": "3.8.18"
  }
 },
 "nbformat": 4,
 "nbformat_minor": 2
}
