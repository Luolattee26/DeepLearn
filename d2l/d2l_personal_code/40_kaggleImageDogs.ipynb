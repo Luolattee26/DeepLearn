{
 "cells": [
  {
   "cell_type": "markdown",
   "id": "f9065e2e-1373-41c8-a82d-c7acb6f56026",
   "metadata": {},
   "source": [
    "这一节我们来看一下，kaggle的小狗分类比赛，这其实是imageNet的一个子集，比CIFAR10更复杂一点"
   ]
  },
  {
   "cell_type": "code",
   "execution_count": 1,
   "id": "1dc2c01d-8277-49d0-ae69-beef1ef1e6a8",
   "metadata": {
    "execution": {
     "iopub.execute_input": "2023-12-18T16:13:40.550681Z",
     "iopub.status.busy": "2023-12-18T16:13:40.550248Z",
     "iopub.status.idle": "2023-12-18T16:13:43.950446Z",
     "shell.execute_reply": "2023-12-18T16:13:43.948805Z",
     "shell.execute_reply.started": "2023-12-18T16:13:40.550635Z"
    },
    "tags": []
   },
   "outputs": [],
   "source": [
    "import os\n",
    "import torch\n",
    "import torchvision\n",
    "from torch import nn\n",
    "from d2l import torch as d2l"
   ]
  },
  {
   "cell_type": "code",
   "execution_count": 2,
   "id": "2b58eaa5-e2de-486b-9581-5ed1f8938fec",
   "metadata": {
    "execution": {
     "iopub.execute_input": "2023-12-18T16:13:47.101553Z",
     "iopub.status.busy": "2023-12-18T16:13:47.100384Z",
     "iopub.status.idle": "2023-12-18T16:14:17.327799Z",
     "shell.execute_reply": "2023-12-18T16:14:17.326702Z",
     "shell.execute_reply.started": "2023-12-18T16:13:47.101481Z"
    },
    "tags": []
   },
   "outputs": [
    {
     "name": "stdout",
     "output_type": "stream",
     "text": [
      "Downloading ../data/kaggle_dog_tiny.zip from http://d2l-data.s3-accelerate.amazonaws.com/kaggle_dog_tiny.zip...\n"
     ]
    }
   ],
   "source": [
    "#@save\n",
    "d2l.DATA_HUB['dog_tiny'] = (d2l.DATA_URL + 'kaggle_dog_tiny.zip',\n",
    "                            '0cb91d09b814ecdc07b50f31f8dcad3e81d6a86d')\n",
    "\n",
    "# 如果使用Kaggle比赛的完整数据集，请将下面的变量更改为False\n",
    "demo = True\n",
    "if demo:\n",
    "    data_dir = d2l.download_extract('dog_tiny')\n",
    "else:\n",
    "    data_dir = os.path.join('..', 'data', 'dog-breed-identification')"
   ]
  },
  {
   "cell_type": "code",
   "execution_count": 3,
   "id": "dfe32b87-dee8-4004-9510-3127f3e4183c",
   "metadata": {
    "execution": {
     "iopub.execute_input": "2023-12-18T16:15:45.286984Z",
     "iopub.status.busy": "2023-12-18T16:15:45.286094Z",
     "iopub.status.idle": "2023-12-18T16:15:57.245374Z",
     "shell.execute_reply": "2023-12-18T16:15:57.244011Z",
     "shell.execute_reply.started": "2023-12-18T16:15:45.286890Z"
    },
    "tags": []
   },
   "outputs": [],
   "source": [
    "def reorg_dog_data(data_dir, valid_ratio):\n",
    "    labels = d2l.read_csv_labels(os.path.join(data_dir, 'labels.csv'))\n",
    "    d2l.reorg_train_valid(data_dir, labels, valid_ratio)\n",
    "    d2l.reorg_test(data_dir)\n",
    "\n",
    "\n",
    "batch_size = 32 if demo else 128\n",
    "valid_ratio = 0.1\n",
    "reorg_dog_data(data_dir, valid_ratio)"
   ]
  },
  {
   "cell_type": "markdown",
   "id": "0d257ea3-8708-4a91-84fd-b7b95193aaa2",
   "metadata": {},
   "source": [
    "其实到这里为止，和我们之前弄过的都是完全一样的"
   ]
  },
  {
   "cell_type": "code",
   "execution_count": 6,
   "id": "f21d7fdc-efd4-4a0b-93af-2a74b124f0fd",
   "metadata": {
    "execution": {
     "iopub.execute_input": "2023-12-18T16:19:46.727968Z",
     "iopub.status.busy": "2023-12-18T16:19:46.727157Z",
     "iopub.status.idle": "2023-12-18T16:19:46.738826Z",
     "shell.execute_reply": "2023-12-18T16:19:46.737775Z",
     "shell.execute_reply.started": "2023-12-18T16:19:46.727875Z"
    },
    "tags": []
   },
   "outputs": [],
   "source": [
    "# 这里的数据增广和前面稍微有一点不一样\n",
    "transform_train = torchvision.transforms.Compose([\n",
    "    # 随机裁剪图像，所得图像为原始面积的0.08～1之间，高宽比在3/4和4/3之间。\n",
    "    # 然后，缩放图像以创建224x224的新图像\n",
    "    torchvision.transforms.RandomResizedCrop(224, scale=(0.08, 1.0),\n",
    "                                             ratio=(3.0/4.0, 4.0/3.0)),\n",
    "    torchvision.transforms.RandomHorizontalFlip(),\n",
    "    # 随机更改亮度，对比度和饱和度\n",
    "    torchvision.transforms.ColorJitter(brightness=0.4,\n",
    "                                       contrast=0.4,\n",
    "                                       saturation=0.4),\n",
    "    # 添加随机噪声\n",
    "    torchvision.transforms.ToTensor(),\n",
    "    # 标准化图像的每个通道\n",
    "    torchvision.transforms.Normalize([0.485, 0.456, 0.406],\n",
    "                                     [0.229, 0.224, 0.225])])\n",
    "\n",
    "transform_test = torchvision.transforms.Compose([\n",
    "    # 首先我们让图片规范到一个256的大小，可能是短边直接拉长到256，也有可能是保持长短边比例的情况下短边拉长到256（这个看框架具体的实现）\n",
    "    # 这里其实是因为狗的图片大小通常比较大，所以我们给他标准化到imageNet的一个相对来说常见的大小（也就是256）\n",
    "    torchvision.transforms.Resize(256),\n",
    "    # 从图像中心裁切224x224大小的图片\n",
    "    torchvision.transforms.CenterCrop(224),\n",
    "    torchvision.transforms.ToTensor(),\n",
    "    torchvision.transforms.Normalize([0.485, 0.456, 0.406],\n",
    "                                     [0.229, 0.224, 0.225])])"
   ]
  },
  {
   "cell_type": "code",
   "execution_count": 7,
   "id": "41f886fc-288a-43fc-90b2-0416ecf4fd65",
   "metadata": {
    "execution": {
     "iopub.execute_input": "2023-12-18T16:20:15.342956Z",
     "iopub.status.busy": "2023-12-18T16:20:15.341976Z",
     "iopub.status.idle": "2023-12-18T16:20:15.691385Z",
     "shell.execute_reply": "2023-12-18T16:20:15.690353Z",
     "shell.execute_reply.started": "2023-12-18T16:20:15.342870Z"
    },
    "tags": []
   },
   "outputs": [],
   "source": [
    "train_ds, train_valid_ds = [torchvision.datasets.ImageFolder(\n",
    "    os.path.join(data_dir, 'train_valid_test', folder),\n",
    "    transform=transform_train) for folder in ['train', 'train_valid']]\n",
    "\n",
    "valid_ds, test_ds = [torchvision.datasets.ImageFolder(\n",
    "    os.path.join(data_dir, 'train_valid_test', folder),\n",
    "    transform=transform_test) for folder in ['valid', 'test']]"
   ]
  },
  {
   "cell_type": "code",
   "execution_count": 8,
   "id": "4f31b394-6c97-4f27-8ad2-12ef630a2d40",
   "metadata": {
    "execution": {
     "iopub.execute_input": "2023-12-18T16:20:22.059168Z",
     "iopub.status.busy": "2023-12-18T16:20:22.058463Z",
     "iopub.status.idle": "2023-12-18T16:20:22.069793Z",
     "shell.execute_reply": "2023-12-18T16:20:22.068433Z",
     "shell.execute_reply.started": "2023-12-18T16:20:22.059114Z"
    },
    "tags": []
   },
   "outputs": [],
   "source": [
    "train_iter, train_valid_iter = [torch.utils.data.DataLoader(\n",
    "    dataset, batch_size, shuffle=True, drop_last=True)\n",
    "    for dataset in (train_ds, train_valid_ds)]\n",
    "\n",
    "valid_iter = torch.utils.data.DataLoader(valid_ds, batch_size, shuffle=False,\n",
    "                                         drop_last=True)\n",
    "\n",
    "test_iter = torch.utils.data.DataLoader(test_ds, batch_size, shuffle=False,\n",
    "                                        drop_last=False)"
   ]
  },
  {
   "cell_type": "markdown",
   "id": "4c12a629-4115-43cc-80c5-fc5fb5bcb720",
   "metadata": {
    "execution": {
     "iopub.execute_input": "2023-12-18T16:20:50.410314Z",
     "iopub.status.busy": "2023-12-18T16:20:50.409572Z",
     "iopub.status.idle": "2023-12-18T16:20:51.585555Z",
     "shell.execute_reply": "2023-12-18T16:20:51.584365Z",
     "shell.execute_reply.started": "2023-12-18T16:20:50.410249Z"
    },
    "tags": []
   },
   "source": [
    "下面我们用了一个预训练的网络"
   ]
  },
  {
   "cell_type": "code",
   "execution_count": 12,
   "id": "7dff7c9b-b936-4e7e-919e-f114084ece21",
   "metadata": {
    "execution": {
     "iopub.execute_input": "2023-12-18T16:33:09.929545Z",
     "iopub.status.busy": "2023-12-18T16:33:09.928986Z",
     "iopub.status.idle": "2023-12-18T16:33:09.939592Z",
     "shell.execute_reply": "2023-12-18T16:33:09.938560Z",
     "shell.execute_reply.started": "2023-12-18T16:33:09.929497Z"
    },
    "tags": []
   },
   "outputs": [],
   "source": [
    "def get_net(devices):\n",
    "    finetune_net = nn.Sequential()\n",
    "    # 这里的feature属性，感觉是表示Sequential()的特征，那其实也就是里面网络的内容\n",
    "    finetune_net.features = torchvision.models.resnet34(pretrained=True)\n",
    "    # 定义一个新的输出网络，共有120个输出类别\n",
    "    # 给Sequential()定义一个新输出子网络\n",
    "    finetune_net.output_new = nn.Sequential(nn.Linear(1000, 256),\n",
    "                                            nn.ReLU(),\n",
    "                                            nn.Linear(256, 120))\n",
    "    # 将模型参数分配给用于计算的CPU或GPU\n",
    "    finetune_net = finetune_net.to(devices[0])\n",
    "    # 冻结参数\n",
    "    # 我们这里把前面的所有resnet的参数都视作特征提取的参数，给冻结了\n",
    "    for param in finetune_net.features.parameters():\n",
    "        param.requires_grad = False\n",
    "    return finetune_net\n",
    "\n",
    "# 实际上上面的features/output_new，都是一个命名的形式\n",
    "# get_net(d2l.try_all_gpus()) # 实测就是层的名字，不过这里因为不是gpu服务器，所以会报错"
   ]
  },
  {
   "cell_type": "markdown",
   "id": "b25be697-f1a3-45b8-9390-c45a87158249",
   "metadata": {},
   "source": [
    "可以发现我们这里又定义了一个新的算loss的函数，为啥要这样？\n",
    "* 因为我们上面把预训练网络的参数全部锁定了，没有梯度我们这样就不能进行自动梯度更新了\n",
    "* 所以我们实际上训练的是我们自定义的那个小网络\n",
    "* 那对于训练过程来说，其实无所谓，直接用原始的输入和输出去算loss就好了\n",
    "* 但是当我们想在valid上面进行评估的时候，我们不太适合用原始的输入和输出\n",
    "* 为啥？因为原始的输入输出是包含了有预训练网络的损失的\n",
    "* 我们把预训练网络固定了，是不会动的，所以我们想要做的其实是在valid上面评估我们自定义小网络的性能的\n",
    "* 所以在算valid loss的时候，我们要用到下面这个自己造的轮子，其实就是为了排除预训练网络的影响，来判断我们的小网络设计合不合理\n",
    "* 如果valid loss巨高，那肯定我们小网络设计的是有问题的"
   ]
  },
  {
   "cell_type": "code",
   "execution_count": 14,
   "id": "b86bae5b-cd4c-453a-9c5d-fcbb646fb8aa",
   "metadata": {
    "execution": {
     "iopub.execute_input": "2023-12-18T16:41:03.985132Z",
     "iopub.status.busy": "2023-12-18T16:41:03.984584Z",
     "iopub.status.idle": "2023-12-18T16:41:03.991797Z",
     "shell.execute_reply": "2023-12-18T16:41:03.990922Z",
     "shell.execute_reply.started": "2023-12-18T16:41:03.985098Z"
    },
    "tags": []
   },
   "outputs": [],
   "source": [
    "loss = nn.CrossEntropyLoss(reduction='none')\n",
    "\n",
    "def evaluate_loss(data_iter, net, devices):\n",
    "    l_sum, n = 0.0, 0\n",
    "    for features, labels in data_iter:\n",
    "        features, labels = features.to(devices[0]), labels.to(devices[0])\n",
    "        outputs = net(features)\n",
    "        l = loss(outputs, labels)\n",
    "        l_sum += l.sum()\n",
    "        n += labels.numel()\n",
    "    return (l_sum / n).to('cpu')"
   ]
  },
  {
   "cell_type": "code",
   "execution_count": 15,
   "id": "897c3314-9e0c-46e7-9b50-f6ad34aad799",
   "metadata": {
    "execution": {
     "iopub.execute_input": "2023-12-18T16:42:05.292634Z",
     "iopub.status.busy": "2023-12-18T16:42:05.292214Z",
     "iopub.status.idle": "2023-12-18T16:42:05.306465Z",
     "shell.execute_reply": "2023-12-18T16:42:05.305298Z",
     "shell.execute_reply.started": "2023-12-18T16:42:05.292599Z"
    },
    "tags": []
   },
   "outputs": [],
   "source": [
    "def train(net, train_iter, valid_iter, num_epochs, lr, wd, devices, lr_period,\n",
    "          lr_decay):\n",
    "    # 只训练小型自定义输出网络\n",
    "    net = nn.DataParallel(net, device_ids=devices).to(devices[0])\n",
    "    trainer = torch.optim.SGD((param for param in net.parameters()\n",
    "                               if param.requires_grad), lr=lr,\n",
    "                              momentum=0.9, weight_decay=wd)\n",
    "    scheduler = torch.optim.lr_scheduler.StepLR(trainer, lr_period, lr_decay)\n",
    "    num_batches, timer = len(train_iter), d2l.Timer()\n",
    "    legend = ['train loss']\n",
    "    if valid_iter is not None:\n",
    "        legend.append('valid loss')\n",
    "    animator = d2l.Animator(xlabel='epoch', xlim=[1, num_epochs],\n",
    "                            legend=legend)\n",
    "    for epoch in range(num_epochs):\n",
    "        metric = d2l.Accumulator(2)\n",
    "        for i, (features, labels) in enumerate(train_iter):\n",
    "            timer.start()\n",
    "            features, labels = features.to(devices[0]), labels.to(devices[0])\n",
    "            trainer.zero_grad()\n",
    "            output = net(features)\n",
    "            l = loss(output, labels).sum()\n",
    "            l.backward()\n",
    "            trainer.step()\n",
    "            metric.add(l, labels.shape[0])\n",
    "            timer.stop()\n",
    "            if (i + 1) % (num_batches // 5) == 0 or i == num_batches - 1:\n",
    "                animator.add(epoch + (i + 1) / num_batches,\n",
    "                             (metric[0] / metric[1], None))\n",
    "        measures = f'train loss {metric[0] / metric[1]:.3f}'\n",
    "        if valid_iter is not None:\n",
    "            valid_loss = evaluate_loss(valid_iter, net, devices)\n",
    "            animator.add(epoch + 1, (None, valid_loss.detach().cpu()))\n",
    "        scheduler.step()\n",
    "    if valid_iter is not None:\n",
    "        measures += f', valid loss {valid_loss:.3f}'\n",
    "    print(measures + f'\\n{metric[1] * num_epochs / timer.sum():.1f}'\n",
    "          f' examples/sec on {str(devices)}')"
   ]
  },
  {
   "cell_type": "markdown",
   "id": "28e2b729-3cdf-4021-b11c-d110dc2672a3",
   "metadata": {},
   "source": [
    "进行训练，然后提交结果"
   ]
  },
  {
   "cell_type": "code",
   "execution_count": null,
   "id": "986817d7-1921-430f-9018-65b11f2a45b8",
   "metadata": {},
   "outputs": [],
   "source": [
    "devices, num_epochs, lr, wd = d2l.try_all_gpus(), 10, 1e-4, 1e-4\n",
    "lr_period, lr_decay, net = 2, 0.9, get_net(devices)\n",
    "train(net, train_iter, valid_iter, num_epochs, lr, wd, devices, lr_period,\n",
    "      lr_decay)"
   ]
  },
  {
   "cell_type": "code",
   "execution_count": null,
   "id": "de8a9054-26f3-46cb-86a4-0c0474a61973",
   "metadata": {},
   "outputs": [],
   "source": [
    "net = get_net(devices)\n",
    "train(net, train_valid_iter, None, num_epochs, lr, wd, devices, lr_period,\n",
    "      lr_decay)\n",
    "\n",
    "preds = []\n",
    "for data, label in test_iter:\n",
    "    # 这里我们想关注每个label的概率\n",
    "    # 这是提交要求的，像之前我们做CIFAR10的时候是直接拿出来预测的label\n",
    "    output = torch.nn.functional.softmax(net(data.to(devices[0])), dim=1)\n",
    "    preds.extend(output.cpu().detach().numpy())\n",
    "ids = sorted(os.listdir(\n",
    "    os.path.join(data_dir, 'train_valid_test', 'test', 'unknown')))\n",
    "with open('submission.csv', 'w') as f:\n",
    "    f.write('id,' + ','.join(train_valid_ds.classes) + '\\n')\n",
    "    for i, output in zip(ids, preds):\n",
    "        f.write(i.split('.')[0] + ',' + ','.join(\n",
    "            [str(num) for num in output]) + '\\n')"
   ]
  },
  {
   "cell_type": "code",
   "execution_count": null,
   "id": "900be362-7f21-48b3-a423-0f072115699e",
   "metadata": {},
   "outputs": [],
   "source": []
  },
  {
   "cell_type": "code",
   "execution_count": null,
   "id": "fbc32a3b-4ab6-4b73-9339-ce9ff62131d1",
   "metadata": {},
   "outputs": [],
   "source": []
  }
 ],
 "metadata": {
  "kernelspec": {
   "display_name": "d2l",
   "language": "python",
   "name": "d2l"
  },
  "language_info": {
   "codemirror_mode": {
    "name": "ipython",
    "version": 3
   },
   "file_extension": ".py",
   "mimetype": "text/x-python",
   "name": "python",
   "nbconvert_exporter": "python",
   "pygments_lexer": "ipython3",
   "version": "3.8.18"
  }
 },
 "nbformat": 4,
 "nbformat_minor": 5
}
