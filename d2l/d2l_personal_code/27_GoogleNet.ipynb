{
 "cells": [
  {
   "cell_type": "markdown",
   "id": "aa089982-8cf0-41e2-9546-1d6373d795ed",
   "metadata": {},
   "source": [
    "GoogleNet是第一个含有并行架构的网络"
   ]
  },
  {
   "cell_type": "markdown",
   "id": "301a4167-523e-497c-82cf-a9d8a4ab1a46",
   "metadata": {},
   "source": [
    "NiN这玩意现在已经没啥人用了，但是GoogleNet目前不管是在谷歌内部还是其他公司都还是被广泛使用的，GoogleNet的设计灵感也极大受到了NiN的启发"
   ]
  },
  {
   "cell_type": "markdown",
   "id": "817ebf94-2ddf-4973-8ecf-1da8aa6ae845",
   "metadata": {},
   "source": [
    "GoogleNet的整体思路其实就是，既然我没有办法确定AlexNet、VGG、NiN这些方法的设计思路哪个更好，哪个更有道理，那我就来个并行\n",
    "\n",
    "我对数据同时进行几种处理，然后把这些并行的连接到网络的下一层\n",
    "\n",
    "反正会学出来的.jpg"
   ]
  },
  {
   "cell_type": "markdown",
   "id": "a49cd6aa-b17c-41f8-a8d1-5356c22ae9ce",
   "metadata": {},
   "source": [
    "GoogleNet的整体设计核心就是体现了上面这个并行思路的Inception block\n",
    "* inception的输出输入高宽不变，但是通过4种模式让通道数增加很多\n",
    "* inception里面的11卷积，其实基本上可以被视为对通道数进行变换，而其他的卷积，才是对空间特征做提取\n",
    "* 相较于用单纯的流行的3355卷积层，inception因为有大量的11卷积，所以参数小很多，但是一定程度上又具有3355卷积核的优点\n",
    "* 整体上GoogleNet是5个stage（输入高宽减半一次），9个inception\n",
    "* 这个是最初的版本V1，现在用的V3/V4更多"
   ]
  },
  {
   "cell_type": "code",
   "execution_count": 1,
   "id": "beacb1cd-e377-4f56-9b24-433cce5f1c68",
   "metadata": {
    "execution": {
     "iopub.execute_input": "2023-12-14T22:36:13.794363Z",
     "iopub.status.busy": "2023-12-14T22:36:13.793923Z",
     "iopub.status.idle": "2023-12-14T22:36:17.587181Z",
     "shell.execute_reply": "2023-12-14T22:36:17.586217Z",
     "shell.execute_reply.started": "2023-12-14T22:36:13.794326Z"
    },
    "tags": []
   },
   "outputs": [],
   "source": [
    "import torch\n",
    "from torch import nn\n",
    "from torch.nn import functional as F\n",
    "from d2l import torch as d2l\n",
    "\n",
    "\n",
    "class Inception(nn.Module):\n",
    "    # 这网络结构简直丧心病狂，李沐老师评价不是人设计出来的\n",
    "    # c1--c4是每条路径的输出通道数\n",
    "    def __init__(self, in_channels, c1, c2, c3, c4, **kwargs):\n",
    "        super(Inception, self).__init__(**kwargs) # 用了个可变参数，虽然好像可能没啥要另外加的参数？\n",
    "        # 线路1，单1x1卷积层\n",
    "        self.p1_1 = nn.Conv2d(in_channels, c1, kernel_size=1)\n",
    "        # 线路2，1x1卷积层后接3x3卷积层\n",
    "        self.p2_1 = nn.Conv2d(in_channels, c2[0], kernel_size=1)\n",
    "        self.p2_2 = nn.Conv2d(c2[0], c2[1], kernel_size=3, padding=1)\n",
    "        # 线路3，1x1卷积层后接5x5卷积层\n",
    "        self.p3_1 = nn.Conv2d(in_channels, c3[0], kernel_size=1)\n",
    "        self.p3_2 = nn.Conv2d(c3[0], c3[1], kernel_size=5, padding=2)\n",
    "        # 线路4，3x3最大汇聚层后接1x1卷积层\n",
    "        self.p4_1 = nn.MaxPool2d(kernel_size=3, stride=1, padding=1)\n",
    "        self.p4_2 = nn.Conv2d(in_channels, c4, kernel_size=1)\n",
    "\n",
    "    def forward(self, x):\n",
    "        p1 = F.relu(self.p1_1(x))\n",
    "        p2 = F.relu(self.p2_2(F.relu(self.p2_1(x))))\n",
    "        p3 = F.relu(self.p3_2(F.relu(self.p3_1(x))))\n",
    "        p4 = F.relu(self.p4_2(self.p4_1(x)))\n",
    "        # 在通道维度上连结输出\n",
    "        return torch.cat((p1, p2, p3, p4), dim=1)"
   ]
  },
  {
   "cell_type": "markdown",
   "id": "661111e3-6edf-4adf-ad8d-fdafb0336473",
   "metadata": {},
   "source": [
    "这就是不同的stage"
   ]
  },
  {
   "cell_type": "code",
   "execution_count": 2,
   "id": "10df074c-4b77-4d86-9974-27ceb35d9b5d",
   "metadata": {
    "execution": {
     "iopub.execute_input": "2023-12-14T22:37:08.009124Z",
     "iopub.status.busy": "2023-12-14T22:37:08.008045Z",
     "iopub.status.idle": "2023-12-14T22:37:08.023256Z",
     "shell.execute_reply": "2023-12-14T22:37:08.021408Z",
     "shell.execute_reply.started": "2023-12-14T22:37:08.009057Z"
    },
    "tags": []
   },
   "outputs": [],
   "source": [
    "b1 = nn.Sequential(nn.Conv2d(1, 64, kernel_size=7, stride=2, padding=3),\n",
    "                   nn.ReLU(),\n",
    "                   nn.MaxPool2d(kernel_size=3, stride=2, padding=1))"
   ]
  },
  {
   "cell_type": "code",
   "execution_count": 3,
   "id": "cd6cf190-fced-43b9-9002-4f6d94449945",
   "metadata": {
    "execution": {
     "iopub.execute_input": "2023-12-14T22:37:13.822327Z",
     "iopub.status.busy": "2023-12-14T22:37:13.821314Z",
     "iopub.status.idle": "2023-12-14T22:37:13.836698Z",
     "shell.execute_reply": "2023-12-14T22:37:13.835103Z",
     "shell.execute_reply.started": "2023-12-14T22:37:13.822257Z"
    },
    "tags": []
   },
   "outputs": [],
   "source": [
    "b2 = nn.Sequential(nn.Conv2d(64, 64, kernel_size=1),\n",
    "                   nn.ReLU(),\n",
    "                   nn.Conv2d(64, 192, kernel_size=3, padding=1),\n",
    "                   nn.ReLU(),\n",
    "                   nn.MaxPool2d(kernel_size=3, stride=2, padding=1))"
   ]
  },
  {
   "cell_type": "code",
   "execution_count": 4,
   "id": "80986dd4-87e7-40cd-ae21-33c2237629e6",
   "metadata": {
    "execution": {
     "iopub.execute_input": "2023-12-14T22:37:34.069501Z",
     "iopub.status.busy": "2023-12-14T22:37:34.068903Z",
     "iopub.status.idle": "2023-12-14T22:37:34.085579Z",
     "shell.execute_reply": "2023-12-14T22:37:34.084726Z",
     "shell.execute_reply.started": "2023-12-14T22:37:34.069440Z"
    },
    "tags": []
   },
   "outputs": [],
   "source": [
    "b3 = nn.Sequential(Inception(192, 64, (96, 128), (16, 32), 32),\n",
    "                   Inception(256, 128, (128, 192), (32, 96), 64),\n",
    "                   nn.MaxPool2d(kernel_size=3, stride=2, padding=1))"
   ]
  },
  {
   "cell_type": "code",
   "execution_count": 5,
   "id": "d8bc6d64-ec03-45da-b262-ac54344980b6",
   "metadata": {
    "execution": {
     "iopub.execute_input": "2023-12-14T22:38:09.229420Z",
     "iopub.status.busy": "2023-12-14T22:38:09.228959Z",
     "iopub.status.idle": "2023-12-14T22:38:09.280566Z",
     "shell.execute_reply": "2023-12-14T22:38:09.278245Z",
     "shell.execute_reply.started": "2023-12-14T22:38:09.229382Z"
    },
    "tags": []
   },
   "outputs": [],
   "source": [
    "b4 = nn.Sequential(Inception(480, 192, (96, 208), (16, 48), 64),\n",
    "                   Inception(512, 160, (112, 224), (24, 64), 64),\n",
    "                   Inception(512, 128, (128, 256), (24, 64), 64),\n",
    "                   Inception(512, 112, (144, 288), (32, 64), 64),\n",
    "                   Inception(528, 256, (160, 320), (32, 128), 128),\n",
    "                   nn.MaxPool2d(kernel_size=3, stride=2, padding=1))"
   ]
  },
  {
   "cell_type": "code",
   "execution_count": 6,
   "id": "b14cdde7-60d1-4c8e-b03a-a997b42e99ad",
   "metadata": {
    "execution": {
     "iopub.execute_input": "2023-12-14T22:38:11.034980Z",
     "iopub.status.busy": "2023-12-14T22:38:11.032627Z",
     "iopub.status.idle": "2023-12-14T22:38:11.097834Z",
     "shell.execute_reply": "2023-12-14T22:38:11.096397Z",
     "shell.execute_reply.started": "2023-12-14T22:38:11.034859Z"
    },
    "tags": []
   },
   "outputs": [],
   "source": [
    "b5 = nn.Sequential(Inception(832, 256, (160, 320), (32, 128), 128),\n",
    "                   Inception(832, 384, (192, 384), (48, 128), 128),\n",
    "                   nn.AdaptiveAvgPool2d((1,1)),\n",
    "                   nn.Flatten())\n",
    "\n",
    "net = nn.Sequential(b1, b2, b3, b4, b5, nn.Linear(1024, 10))"
   ]
  },
  {
   "cell_type": "markdown",
   "id": "5932289a-1fa3-4678-9580-10fa4cd75318",
   "metadata": {},
   "source": [
    "用一个简化版本的，11 9696尺寸得数据扔进去看一下"
   ]
  },
  {
   "cell_type": "code",
   "execution_count": 7,
   "id": "e6745990-9f0c-4c0b-a426-38e5aca89cb4",
   "metadata": {
    "execution": {
     "iopub.execute_input": "2023-12-14T22:39:34.763642Z",
     "iopub.status.busy": "2023-12-14T22:39:34.762488Z",
     "iopub.status.idle": "2023-12-14T22:39:34.853195Z",
     "shell.execute_reply": "2023-12-14T22:39:34.852107Z",
     "shell.execute_reply.started": "2023-12-14T22:39:34.763571Z"
    },
    "tags": []
   },
   "outputs": [
    {
     "name": "stdout",
     "output_type": "stream",
     "text": [
      "Sequential output shape:\t torch.Size([1, 64, 24, 24])\n",
      "Sequential output shape:\t torch.Size([1, 192, 12, 12])\n",
      "Sequential output shape:\t torch.Size([1, 480, 6, 6])\n",
      "Sequential output shape:\t torch.Size([1, 832, 3, 3])\n",
      "Sequential output shape:\t torch.Size([1, 1024])\n",
      "Linear output shape:\t torch.Size([1, 10])\n"
     ]
    },
    {
     "name": "stderr",
     "output_type": "stream",
     "text": [
      "[W NNPACK.cpp:64] Could not initialize NNPACK! Reason: Unsupported hardware.\n"
     ]
    }
   ],
   "source": [
    "X = torch.rand(size=(1, 1, 96, 96))\n",
    "for layer in net:\n",
    "    X = layer(X)\n",
    "    print(layer.__class__.__name__,'output shape:\\t', X.shape)"
   ]
  },
  {
   "cell_type": "code",
   "execution_count": null,
   "id": "04c9f29e-39fa-4cb5-8a58-c0b44d933b4e",
   "metadata": {},
   "outputs": [],
   "source": [
    "lr, num_epochs, batch_size = 0.1, 10, 128\n",
    "train_iter, test_iter = d2l.load_data_fashion_mnist(batch_size, resize=96)\n",
    "d2l.train_ch6(net, train_iter, test_iter, num_epochs, lr, d2l.try_gpu())"
   ]
  }
 ],
 "metadata": {
  "kernelspec": {
   "display_name": "d2l",
   "language": "python",
   "name": "d2l"
  },
  "language_info": {
   "codemirror_mode": {
    "name": "ipython",
    "version": 3
   },
   "file_extension": ".py",
   "mimetype": "text/x-python",
   "name": "python",
   "nbconvert_exporter": "python",
   "pygments_lexer": "ipython3",
   "version": "3.8.18"
  }
 },
 "nbformat": 4,
 "nbformat_minor": 5
}
