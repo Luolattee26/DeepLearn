{
 "cells": [
  {
   "cell_type": "markdown",
   "metadata": {},
   "source": [
    "本节我们来讲一下束搜索，这也是RNN模型的最后一节"
   ]
  },
  {
   "cell_type": "markdown",
   "metadata": {},
   "source": [
    "在seq2seq里面，我们用了贪心算法来进行序列预测，其实也就是输出每个时刻预测概率最大的那个结果\n",
    "* 但是贪心算法不一定是最优的，有可能当前最优并不一定是全局最优，这是常有发生的事情\n",
    "* 穷举搜索那肯定是能够保证获得最优，但是显然不现实\n",
    "* 贪心一般最快，穷举一定最好，我们讲的beam search其实就是一个折中的方案\n",
    "* beam search的思想总的来说就是一点，全局表现好的选项在当前时刻的表现应该也不会太烂，具体的算法实现可以看李沐老师的课，还是一个很简单的算法\n",
    "* beam search还会针对长句子进行一定的校正"
   ]
  },
  {
   "cell_type": "markdown",
   "metadata": {},
   "source": []
  }
 ],
 "metadata": {
  "language_info": {
   "name": "python"
  }
 },
 "nbformat": 4,
 "nbformat_minor": 2
}
