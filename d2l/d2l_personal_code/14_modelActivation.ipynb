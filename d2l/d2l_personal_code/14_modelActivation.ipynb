{
 "cells": [
  {
   "attachments": {},
   "cell_type": "markdown",
   "metadata": {},
   "source": [
    "这一节讲的主要是数值的稳定性、模型初始化、激活函数三个方面"
   ]
  },
  {
   "attachments": {},
   "cell_type": "markdown",
   "metadata": {},
   "source": [
    "在优化模型也就是求解梯度的时候，最常面对的一个问题就是做太多次矩阵乘法，这里其实要结合神经网络前向传播理解，李沐老师视频里面的比较好理解"
   ]
  },
  {
   "attachments": {},
   "cell_type": "markdown",
   "metadata": {},
   "source": [
    "这一章没啥实际代码，主要是概念，详见视频\n",
    "https://www.bilibili.com/video/BV1u64y1i75a?p=2&vd_source=9c62135423ab5b0c74d4cb834a81d6c6"
   ]
  },
  {
   "cell_type": "markdown",
   "metadata": {},
   "source": []
  }
 ],
 "metadata": {
  "language_info": {
   "name": "python"
  },
  "orig_nbformat": 4
 },
 "nbformat": 4,
 "nbformat_minor": 2
}
