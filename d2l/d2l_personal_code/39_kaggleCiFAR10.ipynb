{
 "cells": [
  {
   "cell_type": "markdown",
   "id": "27d09a21-02ae-42b8-9f83-eb6a402457a4",
   "metadata": {},
   "source": [
    "本节课是kaggle上面CIFAR10数据集的分类比赛实例，这个也是实际的应用场景里面最常用的一个数据集"
   ]
  },
  {
   "cell_type": "markdown",
   "id": "a71cafba-5800-4c41-86dd-f9d14735e979",
   "metadata": {},
   "source": [
    "这里和之前主要的不同之处在于，我们之前是通过深度学习的框架来直接获得了已经转化为tensor格式的图片，而现在我们从头开始，将真正的图片转化为我们深度学习要用的tensor格式"
   ]
  },
  {
   "cell_type": "code",
   "execution_count": 1,
   "id": "5250f20e-9306-4e45-a0a6-93209a44cd26",
   "metadata": {
    "execution": {
     "iopub.execute_input": "2023-12-18T10:54:16.386702Z",
     "iopub.status.busy": "2023-12-18T10:54:16.386255Z",
     "iopub.status.idle": "2023-12-18T10:54:20.347099Z",
     "shell.execute_reply": "2023-12-18T10:54:20.345966Z",
     "shell.execute_reply.started": "2023-12-18T10:54:16.386652Z"
    },
    "tags": []
   },
   "outputs": [],
   "source": [
    "import collections\n",
    "import math\n",
    "import os\n",
    "import shutil\n",
    "import pandas as pd\n",
    "import torch\n",
    "import torchvision\n",
    "from torch import nn\n",
    "from d2l import torch as d2l"
   ]
  },
  {
   "cell_type": "code",
   "execution_count": 2,
   "id": "abac1d88-764a-41b0-88d8-9dbfb1d11ed8",
   "metadata": {
    "execution": {
     "iopub.execute_input": "2023-12-18T10:54:20.349303Z",
     "iopub.status.busy": "2023-12-18T10:54:20.348624Z",
     "iopub.status.idle": "2023-12-18T10:54:25.495738Z",
     "shell.execute_reply": "2023-12-18T10:54:25.494596Z",
     "shell.execute_reply.started": "2023-12-18T10:54:20.349265Z"
    },
    "tags": []
   },
   "outputs": [
    {
     "name": "stdout",
     "output_type": "stream",
     "text": [
      "Downloading ../data/kaggle_cifar10_tiny.zip from http://d2l-data.s3-accelerate.amazonaws.com/kaggle_cifar10_tiny.zip...\n"
     ]
    }
   ],
   "source": [
    "#@save\n",
    "d2l.DATA_HUB['cifar10_tiny'] = (d2l.DATA_URL + 'kaggle_cifar10_tiny.zip',\n",
    "                                '2068874e4b9a9f0fb07ebe0ad2b29754449ccacd')\n",
    "\n",
    "# 如果使用完整的Kaggle竞赛的数据集，设置demo为False\n",
    "demo = True\n",
    "\n",
    "if demo:\n",
    "    data_dir = d2l.download_extract('cifar10_tiny')\n",
    "else:\n",
    "    data_dir = '../data/cifar-10/'"
   ]
  },
  {
   "cell_type": "code",
   "execution_count": 3,
   "id": "05cceb05-3dac-4f1e-896a-abbefbdc8929",
   "metadata": {
    "execution": {
     "iopub.execute_input": "2023-12-18T10:54:25.497496Z",
     "iopub.status.busy": "2023-12-18T10:54:25.497188Z",
     "iopub.status.idle": "2023-12-18T10:54:25.507079Z",
     "shell.execute_reply": "2023-12-18T10:54:25.506059Z",
     "shell.execute_reply.started": "2023-12-18T10:54:25.497464Z"
    },
    "tags": []
   },
   "outputs": [
    {
     "name": "stdout",
     "output_type": "stream",
     "text": [
      "# 训练样本 : 1000\n",
      "# 类别 : 10\n"
     ]
    }
   ],
   "source": [
    "#@save\n",
    "# 就是一个小函数，把label不断读出来，这是因为CIFAR10定义的label就是这样弄的\n",
    "def read_csv_labels(fname):\n",
    "    \"\"\"读取fname来给标签字典返回一个文件名\"\"\"\n",
    "    with open(fname, 'r') as f:\n",
    "        # 跳过文件头行(列名)\n",
    "        lines = f.readlines()[1:]\n",
    "    tokens = [l.rstrip().split(',') for l in lines]\n",
    "    return dict(((name, label) for name, label in tokens))\n",
    "\n",
    "labels = read_csv_labels(os.path.join(data_dir, 'trainLabels.csv'))\n",
    "print('# 训练样本 :', len(labels))\n",
    "print('# 类别 :', len(set(labels.values())))"
   ]
  },
  {
   "cell_type": "markdown",
   "id": "1176cbd1-a33a-4076-8ed8-f3299495be8f",
   "metadata": {},
   "source": [
    "torch里面有一种图片分类数据集很简单的格式，也就是每个label分别塞到一个文件夹里面"
   ]
  },
  {
   "cell_type": "code",
   "execution_count": 4,
   "id": "fb108d9b-7603-461a-887e-e74a76188bf7",
   "metadata": {
    "execution": {
     "iopub.execute_input": "2023-12-18T10:54:25.509674Z",
     "iopub.status.busy": "2023-12-18T10:54:25.509310Z",
     "iopub.status.idle": "2023-12-18T10:54:25.519143Z",
     "shell.execute_reply": "2023-12-18T10:54:25.518295Z",
     "shell.execute_reply.started": "2023-12-18T10:54:25.509645Z"
    },
    "tags": []
   },
   "outputs": [],
   "source": [
    "#@save\n",
    "# 这个函数就是传文件\n",
    "def copyfile(filename, target_dir):\n",
    "    \"\"\"将文件复制到目标目录\"\"\"\n",
    "    os.makedirs(target_dir, exist_ok=True)\n",
    "    shutil.copy(filename, target_dir)\n",
    "\n",
    "#@save\n",
    "def reorg_train_valid(data_dir, labels, valid_ratio):\n",
    "    \"\"\"将验证集从原始的训练集中拆分出来\"\"\"\n",
    "    # 训练数据集中样本最少的类别中的样本数\n",
    "    # 这个n就是为了，我每个类别样本数存在差异，但是大差不差，所以我们拿最少的那个类别来算要划分多少个样本放到验证集\n",
    "    n = collections.Counter(labels.values()).most_common()[-1][1]\n",
    "    # 验证集中每个类别的样本数\n",
    "    n_valid_per_label = max(1, math.floor(n * valid_ratio))\n",
    "    label_count = {}\n",
    "    # 这下面一整个for循环其实就是\n",
    "    # 首先我把train样本里面的样本，复制到train_valid_test这个大文件夹下面，这个大文件夹下面包含了train/val/test三种的数据\n",
    "    # 那首先不管其他的，我先把train里面的样本先扔到train_valid_test/train_valid下面去，因为这两个集合起来反正是一个来源\n",
    "    # 然后我再在label_count里面计数，如果说label_count里面记录的数字满足了我val样本的要求，我就把新来的样本单独扔到train_valid_test/train里面去\n",
    "    # 如果没满足，那证明我还需要val样本，所以这时候会被扔到train_valid_test/valid里面\n",
    "    # 实际上到了最后，train_valid_test这个文件夹应该是valid和train加起来的数量\n",
    "    for train_file in os.listdir(os.path.join(data_dir, 'train')):\n",
    "        label = labels[train_file.split('.')[0]]\n",
    "        fname = os.path.join(data_dir, 'train', train_file)\n",
    "        copyfile(fname, os.path.join(data_dir, 'train_valid_test',\n",
    "                                     'train_valid', label))\n",
    "        if label not in label_count or label_count[label] < n_valid_per_label:\n",
    "            copyfile(fname, os.path.join(data_dir, 'train_valid_test',\n",
    "                                         'valid', label))\n",
    "            label_count[label] = label_count.get(label, 0) + 1\n",
    "        else:\n",
    "            copyfile(fname, os.path.join(data_dir, 'train_valid_test',\n",
    "                                         'train', label))\n",
    "    return n_valid_per_label"
   ]
  },
  {
   "cell_type": "code",
   "execution_count": 5,
   "id": "33e22a23-9b07-4dd0-a670-a3659203275e",
   "metadata": {
    "execution": {
     "iopub.execute_input": "2023-12-18T10:54:25.520513Z",
     "iopub.status.busy": "2023-12-18T10:54:25.520190Z",
     "iopub.status.idle": "2023-12-18T10:54:25.525645Z",
     "shell.execute_reply": "2023-12-18T10:54:25.524814Z",
     "shell.execute_reply.started": "2023-12-18T10:54:25.520484Z"
    },
    "tags": []
   },
   "outputs": [],
   "source": [
    "#@save\n",
    "def reorg_test(data_dir):\n",
    "    \"\"\"在预测期间整理测试集，以方便读取\"\"\"\n",
    "    for test_file in os.listdir(os.path.join(data_dir, 'test')):\n",
    "        copyfile(os.path.join(data_dir, 'test', test_file),\n",
    "                 os.path.join(data_dir, 'train_valid_test', 'test',\n",
    "                              'unknown')) # 这里也就是扔到我们前面弄好的，train_valid_test文件夹里面test文件夹下面，我们还不知道类别的文件夹里面"
   ]
  },
  {
   "cell_type": "code",
   "execution_count": 6,
   "id": "aebbb700-87e1-4999-92b4-0b79dd15e605",
   "metadata": {
    "execution": {
     "iopub.execute_input": "2023-12-18T10:54:25.527039Z",
     "iopub.status.busy": "2023-12-18T10:54:25.526738Z",
     "iopub.status.idle": "2023-12-18T10:54:25.531544Z",
     "shell.execute_reply": "2023-12-18T10:54:25.530720Z",
     "shell.execute_reply.started": "2023-12-18T10:54:25.527010Z"
    },
    "tags": []
   },
   "outputs": [],
   "source": [
    "# 这个函数就是一次性调用前面定义好的函数\n",
    "def reorg_cifar10_data(data_dir, valid_ratio):\n",
    "    labels = read_csv_labels(os.path.join(data_dir, 'trainLabels.csv'))\n",
    "    reorg_train_valid(data_dir, labels, valid_ratio)\n",
    "    reorg_test(data_dir)"
   ]
  },
  {
   "cell_type": "code",
   "execution_count": 7,
   "id": "9ca0b5e5-dd42-4c87-9717-58811a997473",
   "metadata": {
    "execution": {
     "iopub.execute_input": "2023-12-18T10:54:25.533039Z",
     "iopub.status.busy": "2023-12-18T10:54:25.532669Z",
     "iopub.status.idle": "2023-12-18T10:54:37.240837Z",
     "shell.execute_reply": "2023-12-18T10:54:37.239138Z",
     "shell.execute_reply.started": "2023-12-18T10:54:25.533009Z"
    },
    "tags": []
   },
   "outputs": [],
   "source": [
    "batch_size = 32 if demo else 128\n",
    "valid_ratio = 0.1 # 这个valid data挺小的\n",
    "# 调用这玩意重复运行好像会出bug\n",
    "reorg_cifar10_data(data_dir, valid_ratio)"
   ]
  },
  {
   "cell_type": "code",
   "execution_count": 10,
   "id": "f0e0c352-0d72-487b-9ef4-aa91be9023d0",
   "metadata": {
    "execution": {
     "iopub.execute_input": "2023-12-18T10:56:53.826110Z",
     "iopub.status.busy": "2023-12-18T10:56:53.825276Z",
     "iopub.status.idle": "2023-12-18T10:56:53.840525Z",
     "shell.execute_reply": "2023-12-18T10:56:53.838708Z",
     "shell.execute_reply.started": "2023-12-18T10:56:53.826039Z"
    },
    "tags": []
   },
   "outputs": [],
   "source": [
    "# 这里的图像增广和前面做的都差不多，注意测试集和训练集不同的处理方法\n",
    "transform_train = torchvision.transforms.Compose([\n",
    "    torchvision.transforms.Resize(40),\n",
    "    torchvision.transforms.RandomResizedCrop(32, scale=(0.64, 1.0),\n",
    "                                                   ratio=(1.0, 1.0)),\n",
    "    torchvision.transforms.RandomHorizontalFlip(),\n",
    "    torchvision.transforms.ToTensor(),\n",
    "    # 标准化图像的每个通道\n",
    "    torchvision.transforms.Normalize([0.4914, 0.4822, 0.4465],\n",
    "                                     [0.2023, 0.1994, 0.2010])])\n",
    "\n",
    "transform_test = torchvision.transforms.Compose([\n",
    "    torchvision.transforms.ToTensor(),\n",
    "    torchvision.transforms.Normalize([0.4914, 0.4822, 0.4465],\n",
    "                                     [0.2023, 0.1994, 0.2010])])"
   ]
  },
  {
   "cell_type": "code",
   "execution_count": 11,
   "id": "c7d59b62-cecb-460d-91bc-860f01c9abaf",
   "metadata": {
    "execution": {
     "iopub.execute_input": "2023-12-18T10:58:15.596739Z",
     "iopub.status.busy": "2023-12-18T10:58:15.595846Z",
     "iopub.status.idle": "2023-12-18T10:58:15.675243Z",
     "shell.execute_reply": "2023-12-18T10:58:15.673620Z",
     "shell.execute_reply.started": "2023-12-18T10:58:15.596668Z"
    },
    "tags": []
   },
   "outputs": [],
   "source": [
    "# 我们上面的这种方法看起来挺麻烦的，而且复制两遍，占空间\n",
    "# 我们可以自己写一个DataIterat\n",
    "# 但是我们上面那种方法，应该所有框架都能支持的很好\n",
    "train_ds, train_valid_ds = [torchvision.datasets.ImageFolder(\n",
    "    os.path.join(data_dir, 'train_valid_test', folder),\n",
    "    transform=transform_train) for folder in ['train', 'train_valid']]\n",
    "\n",
    "valid_ds, test_ds = [torchvision.datasets.ImageFolder(\n",
    "    os.path.join(data_dir, 'train_valid_test', folder),\n",
    "    transform=transform_test) for folder in ['valid', 'test']]"
   ]
  },
  {
   "cell_type": "code",
   "execution_count": 14,
   "id": "870917ad-1a60-4ee8-bde9-9d173472518c",
   "metadata": {
    "execution": {
     "iopub.execute_input": "2023-12-18T11:03:27.775058Z",
     "iopub.status.busy": "2023-12-18T11:03:27.774332Z",
     "iopub.status.idle": "2023-12-18T11:03:27.783046Z",
     "shell.execute_reply": "2023-12-18T11:03:27.782087Z",
     "shell.execute_reply.started": "2023-12-18T11:03:27.775023Z"
    },
    "tags": []
   },
   "outputs": [],
   "source": [
    "# 这里训练集因为我们要用随机梯度下降，所以shuffle肯定是true的，验证集和测试集本质上都只做前向运算，所以不用去shuffle\n",
    "# drop_last意思是如果你最后剩下的那个batch不满足batch size的话，要不要丢掉，其实影响不大，只是有时候你手写一些代码会希望每个batch的大小一样你方便写\n",
    "train_iter, train_valid_iter = [torch.utils.data.DataLoader(\n",
    "    dataset, batch_size, shuffle=True, drop_last=True)\n",
    "    for dataset in (train_ds, train_valid_ds)]\n",
    "\n",
    "valid_iter = torch.utils.data.DataLoader(valid_ds, batch_size, shuffle=False,\n",
    "                                         drop_last=True)\n",
    "\n",
    "test_iter = torch.utils.data.DataLoader(test_ds, batch_size, shuffle=False,\n",
    "                                        drop_last=False)"
   ]
  },
  {
   "cell_type": "code",
   "execution_count": 18,
   "id": "ab1509ab-b579-460e-a2b4-726ac43c3beb",
   "metadata": {
    "execution": {
     "iopub.execute_input": "2023-12-18T11:13:21.726724Z",
     "iopub.status.busy": "2023-12-18T11:13:21.725931Z",
     "iopub.status.idle": "2023-12-18T11:13:21.737043Z",
     "shell.execute_reply": "2023-12-18T11:13:21.734762Z",
     "shell.execute_reply.started": "2023-12-18T11:13:21.726658Z"
    },
    "tags": []
   },
   "outputs": [],
   "source": [
    "def get_net():\n",
    "    num_classes = 10\n",
    "    net = d2l.resnet18(num_classes, 3) # 通道是3，彩色图片\n",
    "    return net\n",
    "\n",
    "loss = nn.CrossEntropyLoss(reduction=\"none\")"
   ]
  },
  {
   "cell_type": "code",
   "execution_count": 19,
   "id": "16cd9ae2-e2af-4ad8-83c1-0bfb2329d441",
   "metadata": {
    "execution": {
     "iopub.execute_input": "2023-12-18T16:45:49.606242Z",
     "iopub.status.busy": "2023-12-18T16:45:49.605570Z",
     "iopub.status.idle": "2023-12-18T16:45:49.626899Z",
     "shell.execute_reply": "2023-12-18T16:45:49.625742Z",
     "shell.execute_reply.started": "2023-12-18T16:45:49.606189Z"
    },
    "tags": []
   },
   "outputs": [],
   "source": [
    "# 其实没啥本质区别\n",
    "def train(net, train_iter, valid_iter, num_epochs, lr, wd, devices, lr_period,\n",
    "          lr_decay):\n",
    "    trainer = torch.optim.SGD(net.parameters(), lr=lr, momentum=0.9,\n",
    "                              weight_decay=wd)\n",
    "    # v = momentum * v - learning_rate * gradient\n",
    "    # weight = weight + v\n",
    "    # 这个momentum参数实际上就是多加了一个权重，v看作是真正权重weight的改变量，本来应该是v = - learning_rate * gradient\n",
    "    # 现在我多加一个momentum，在此处也就是意味着0.1v = - learning_rate * gradient\n",
    "    # 所以相同的学习率下，我们学习率对权重的更新作用更加明显了\n",
    "\n",
    "    # 这里我们加了两个参数，lr_period, lr_decay\n",
    "    # 这玩意就是控制学习率下降的（现在可能用cos学习率）\n",
    "    # 从凸优化来说，想要拿到最优解，学习率应该是要逐渐下降的\n",
    "    # lr_period是每隔多少个epoch，我就降低lr_decay的学习率（做乘法）\n",
    "    scheduler = torch.optim.lr_scheduler.StepLR(trainer, lr_period, lr_decay)\n",
    "    num_batches, timer = len(train_iter), d2l.Timer()\n",
    "    legend = ['train loss', 'train acc']\n",
    "    if valid_iter is not None:\n",
    "        legend.append('valid acc')\n",
    "    animator = d2l.Animator(xlabel='epoch', xlim=[1, num_epochs],\n",
    "                            legend=legend)\n",
    "    net = nn.DataParallel(net, device_ids=devices).to(devices[0])\n",
    "    for epoch in range(num_epochs):\n",
    "        net.train()\n",
    "        metric = d2l.Accumulator(3)\n",
    "        for i, (features, labels) in enumerate(train_iter):\n",
    "            timer.start()\n",
    "            l, acc = d2l.train_batch_ch13(net, features, labels,\n",
    "                                          loss, trainer, devices)\n",
    "            metric.add(l, acc, labels.shape[0])\n",
    "            timer.stop()\n",
    "            if (i + 1) % (num_batches // 5) == 0 or i == num_batches - 1:\n",
    "                animator.add(epoch + (i + 1) / num_batches,\n",
    "                             (metric[0] / metric[2], metric[1] / metric[2],\n",
    "                              None))\n",
    "        if valid_iter is not None:\n",
    "            valid_acc = d2l.evaluate_accuracy_gpu(net, valid_iter)\n",
    "            animator.add(epoch + 1, (None, None, valid_acc))\n",
    "        scheduler.step() # 注意这里我们是对lr进行更新，让lr按照我们设定好的策略进行更新\n",
    "    measures = (f'train loss {metric[0] / metric[2]:.3f}, '\n",
    "                f'train acc {metric[1] / metric[2]:.3f}')\n",
    "    if valid_iter is not None:\n",
    "        measures += f', valid acc {valid_acc:.3f}'\n",
    "    print(measures + f'\\n{metric[2] * num_epochs / timer.sum():.1f}'\n",
    "          f' examples/sec on {str(devices)}')"
   ]
  },
  {
   "cell_type": "markdown",
   "id": "c6d6b4e8-0c02-4f2e-ac72-acccc832d0de",
   "metadata": {},
   "source": [
    "一般train100个epoch，这个数据集的顶点"
   ]
  },
  {
   "cell_type": "code",
   "execution_count": null,
   "id": "ebee5084-1bee-4cca-aaf5-c78b970fe102",
   "metadata": {},
   "outputs": [],
   "source": [
    "devices, num_epochs, lr, wd = d2l.try_all_gpus(), 20, 2e-4, 5e-4\n",
    "lr_period, lr_decay, net = 4, 0.9, get_net()\n",
    "train(net, train_iter, valid_iter, num_epochs, lr, wd, devices, lr_period,\n",
    "      lr_decay)"
   ]
  },
  {
   "cell_type": "markdown",
   "id": "4c20b1f2-3643-4693-8d3f-35a306759c5c",
   "metadata": {},
   "source": [
    "向kaggle上面提交结果"
   ]
  },
  {
   "cell_type": "code",
   "execution_count": null,
   "id": "79b9d646-7439-418d-9a87-52e998cc88c6",
   "metadata": {},
   "outputs": [],
   "source": [
    "net, preds = get_net(), []\n",
    "train(net, train_valid_iter, None, num_epochs, lr, wd, devices, lr_period,\n",
    "      lr_decay)\n",
    "\n",
    "for X, _ in test_iter:\n",
    "    y_hat = net(X.to(devices[0]))\n",
    "    preds.extend(y_hat.argmax(dim=1).type(torch.int32).cpu().numpy())\n",
    "sorted_ids = list(range(1, len(test_ds) + 1))\n",
    "sorted_ids.sort(key=lambda x: str(x))\n",
    "df = pd.DataFrame({'id': sorted_ids, 'label': preds})\n",
    "df['label'] = df['label'].apply(lambda x: train_valid_ds.classes[x])\n",
    "df.to_csv('submission.csv', index=False)"
   ]
  },
  {
   "cell_type": "code",
   "execution_count": null,
   "id": "e876572c-4a21-4de7-a533-4d333e2a28e6",
   "metadata": {},
   "outputs": [],
   "source": []
  }
 ],
 "metadata": {
  "kernelspec": {
   "display_name": "d2l",
   "language": "python",
   "name": "d2l"
  },
  "language_info": {
   "codemirror_mode": {
    "name": "ipython",
    "version": 3
   },
   "file_extension": ".py",
   "mimetype": "text/x-python",
   "name": "python",
   "nbconvert_exporter": "python",
   "pygments_lexer": "ipython3",
   "version": "3.8.18"
  }
 },
 "nbformat": 4,
 "nbformat_minor": 5
}
